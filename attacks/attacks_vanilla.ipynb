{
 "cells": [
  {
   "cell_type": "code",
   "execution_count": 1,
   "metadata": {},
   "outputs": [],
   "source": [
    "import os\n",
    "import joblib\n",
    "import json\n",
    "\n",
    "from sklearn.neural_network import MLPClassifier\n",
    "from sklearn.model_selection import train_test_split, KFold\n",
    "from sklearn.metrics import f1_score, multilabel_confusion_matrix, \\\n",
    "    classification_report, accuracy_score\n",
    "\n",
    "import numpy as np\n",
    "import matplotlib.pyplot as plt\n",
    "\n",
    "import torch"
   ]
  },
  {
   "cell_type": "code",
   "execution_count": null,
   "metadata": {},
   "outputs": [],
   "source": [
    "# TODO: instead of averaging models of all types, we should only average models\n",
    "# trained with the same set of hyperparameters\n",
    "\n",
    "# TODO: since training is a random process, we can also train several models\n",
    "# using the same hyperparameters and partition of the dataset. Then, when\n",
    "# averaging, we should average over models with the same hyperparameters but\n",
    "# different dataset partition\n",
    "\n",
    "# TODO: Maybe we should not average models as a method to improve privacy"
   ]
  },
  {
   "cell_type": "markdown",
   "metadata": {},
   "source": [
    "# Create datasets"
   ]
  },
  {
   "cell_type": "code",
   "execution_count": 2,
   "metadata": {},
   "outputs": [],
   "source": [
    "cwd = os.getcwd()\n",
    "\n",
    "datasets = ['Chowell_train', 'Chowell_test', 'MSK1', 'MSK2', 'Shim_NSCLC',\n",
    "            'Kato_panCancer', 'Vanguri_NSCLC', 'Ravi_NSCLC', 'Pradat_panCancer']\n",
    "datasets_ids = list(range(1, len(datasets) + 1))"
   ]
  },
  {
   "cell_type": "code",
   "execution_count": 3,
   "metadata": {},
   "outputs": [],
   "source": [
    "# Create whole models dataset\n",
    "model_name = 'llr6' # 'llr6' or 'nn2'\n",
    "scaler_type = 'standard' # 'standard' or 'minimax'\n",
    "\n",
    "all_labels = []\n",
    "all_params = []\n",
    "all_scores = []\n",
    "\n",
    "datasets_dir = os.path.join(cwd, 'datasets', model_name, scaler_type)\n",
    "os.makedirs(datasets_dir, exist_ok=True)\n",
    "\n",
    "models_dir = os.path.join(cwd, 'models', model_name, scaler_type)\n",
    "for comb in os.listdir(models_dir):\n",
    "    aux_labels = [int(n) - 1 for n in comb.split('_')]\n",
    "    one_hot_label = torch.zeros(len(datasets))\n",
    "    one_hot_label[aux_labels] = 1\n",
    "    \n",
    "    comb_dir = os.path.join(models_dir, comb)\n",
    "    for C in [0.1, 1.0, 10.0]:\n",
    "        for l1 in [0.0, 0.5, 1.0]:\n",
    "            for i in range(100):\n",
    "                params_file = f'{C}_{l1}_{i}_params.pkl'\n",
    "                scores_file = f'{C}_{l1}_{i}_scores.json'\n",
    "                \n",
    "                try:\n",
    "                    # params\n",
    "                    params_dir = os.path.join(comb_dir, params_file)\n",
    "                    params = joblib.load(params_dir)\n",
    "                        \n",
    "                    all_labels.append(one_hot_label.clone())\n",
    "                    all_params.append(params.clone())\n",
    "                \n",
    "                # try:\n",
    "                    # scores\n",
    "                    scores_dir = os.path.join(comb_dir, scores_file)\n",
    "                    with open(scores_dir, 'r') as f:\n",
    "                        scores_dict = json.load(f)\n",
    "                      \n",
    "                    aux_labels = [int(n) - 1 for n in comb.split('_')]\n",
    "                    scores_vector = torch.zeros(len(datasets) + 1)\n",
    "                    for dat_id in datasets_ids:\n",
    "                        scores_vector[dat_id - 1] = scores_dict[str(dat_id)]\n",
    "                    scores_vector[-1] = scores_dict['all']\n",
    "                    \n",
    "                    all_scores.append(scores_vector)\n",
    "                except:\n",
    "                    print(comb, C, l1, i)\n",
    "\n",
    "all_labels = torch.stack(all_labels, dim=0).int()\n",
    "all_params = torch.stack(all_params, dim=0)\n",
    "all_scores = torch.stack(all_scores, dim=0)\n",
    "\n",
    "# torch.save((all_labels, all_params, all_scores),\n",
    "#            os.path.join(datasets_dir, 'params_multilabel.pt'))"
   ]
  },
  {
   "cell_type": "code",
   "execution_count": 4,
   "metadata": {},
   "outputs": [],
   "source": [
    "cond = (all_labels == torch.tensor([1, 0, 0, 0, 0, 0, 0, 0, 0])).all(dim=1)"
   ]
  },
  {
   "cell_type": "code",
   "execution_count": 5,
   "metadata": {},
   "outputs": [
    {
     "data": {
      "text/plain": [
       "tensor([[1, 0, 0,  ..., 0, 0, 0],\n",
       "        [1, 0, 0,  ..., 0, 0, 0],\n",
       "        [1, 0, 0,  ..., 0, 0, 0],\n",
       "        ...,\n",
       "        [1, 0, 0,  ..., 0, 0, 0],\n",
       "        [1, 0, 0,  ..., 0, 0, 0],\n",
       "        [1, 0, 0,  ..., 0, 0, 0]], dtype=torch.int32)"
      ]
     },
     "execution_count": 5,
     "metadata": {},
     "output_type": "execute_result"
    }
   ],
   "source": [
    "all_labels[cond]"
   ]
  },
  {
   "cell_type": "code",
   "execution_count": null,
   "metadata": {},
   "outputs": [
    {
     "data": {
      "text/plain": [
       "tensor([ 0.0383, -0.9419,  0.4187, -0.0231,  0.0035, -0.1131, -0.1279, -0.1152,\n",
       "         0.0253,  0.0543,  0.0398,  0.1074, -0.1001, -0.0067, -0.0130, -0.0044,\n",
       "        -0.0276, -0.5440,  0.5321,  0.0412,  0.0756, -1.5578],\n",
       "       dtype=torch.float64)"
      ]
     },
     "execution_count": 6,
     "metadata": {},
     "output_type": "execute_result"
    }
   ],
   "source": [
    "all_params[cond][200:300, :][0]"
   ]
  },
  {
   "cell_type": "code",
   "execution_count": null,
   "metadata": {},
   "outputs": [
    {
     "name": "stdout",
     "output_type": "stream",
     "text": [
      "C=0.1 , l1=0.0, mean: 0.7308, std: 0.0020\n",
      "C=0.1 , l1=0.5, mean: 0.7308, std: 0.0020\n",
      "C=0.1 , l1=1.0, mean: 0.7438, std: 0.0000\n",
      "C=1.0 , l1=0.0, mean: 0.7306, std: 0.0028\n",
      "C=1.0 , l1=0.5, mean: 0.7306, std: 0.0028\n",
      "C=1.0 , l1=1.0, mean: 0.7308, std: 0.0020\n",
      "C=10.0, l1=0.0, mean: 0.7298, std: 0.0048\n",
      "C=10.0, l1=0.5, mean: 0.7300, std: 0.0044\n",
      "C=10.0, l1=1.0, mean: 0.7290, std: 0.0060\n"
     ]
    }
   ],
   "source": [
    "# Evaluate on Chowell_test\n",
    "for iC, C in enumerate([0.1, 1.0, 10.0]):\n",
    "    for il1, l1 in enumerate([0.0, 0.5, 1.0]):\n",
    "        i = 3* iC + il1\n",
    "        aux = all_scores[cond][(i*100):((i+1)*100), 1]\n",
    "        print(f'{C=:<4}, {l1=}, mean: {aux.mean().item():.4f}, std: {aux.std().item():.4f}')"
   ]
  },
  {
   "cell_type": "code",
   "execution_count": 25,
   "metadata": {},
   "outputs": [
    {
     "name": "stdout",
     "output_type": "stream",
     "text": [
      "C=0.1 , l1=0.0, mean: 0.6766, std: 0.0010\n",
      "C=0.1 , l1=0.5, mean: 0.6622, std: 0.0044\n",
      "C=0.1 , l1=1.0, mean: 0.6418, std: 0.0048\n",
      "C=1.0 , l1=0.0, mean: 0.6727, std: 0.0005\n",
      "C=1.0 , l1=0.5, mean: 0.6727, std: 0.0005\n",
      "C=1.0 , l1=1.0, mean: 0.6768, std: 0.0017\n",
      "C=10.0, l1=0.0, mean: 0.6717, std: 0.0021\n",
      "C=10.0, l1=0.5, mean: 0.6723, std: 0.0015\n",
      "C=10.0, l1=1.0, mean: 0.6726, std: 0.0005\n"
     ]
    }
   ],
   "source": [
    "# Evaluate on Chowell_train\n",
    "for iC, C in enumerate([0.1, 1.0, 10.0]):\n",
    "    for il1, l1 in enumerate([0.0, 0.5, 1.0]):\n",
    "        i = 3* iC + il1\n",
    "        aux = all_scores[cond][(i*100):((i+1)*100), 0]\n",
    "        print(f'{C=:<4}, {l1=}, mean: {aux.mean().item():.4f}, std: {aux.std().item():.4f}')"
   ]
  },
  {
   "cell_type": "markdown",
   "metadata": {},
   "source": [
    "# LLR6"
   ]
  },
  {
   "cell_type": "markdown",
   "metadata": {},
   "source": [
    "## Load and filter datasets"
   ]
  },
  {
   "cell_type": "code",
   "execution_count": 3,
   "metadata": {},
   "outputs": [],
   "source": [
    "model_name = 'llr6' # 'llr6' or 'nn2'\n",
    "scaler_type = 'standard' # 'standard' or 'minimax'\n",
    "dataset_dir = os.path.join(cwd, 'datasets', model_name, scaler_type,\n",
    "                           'params_multilabel.pt')\n",
    "\n",
    "all_labels, all_params, all_scores = \\\n",
    "    torch.load(dataset_dir, weights_only=True)"
   ]
  },
  {
   "cell_type": "code",
   "execution_count": 8,
   "metadata": {},
   "outputs": [
    {
     "data": {
      "image/png": "[encoded data removed]",
      "text/plain": [
       "<Figure size 640x480 with 1 Axes>"
      ]
     },
     "metadata": {},
     "output_type": "display_data"
    }
   ],
   "source": [
    "# Plot histogram scores\n",
    "plt.hist(all_scores[:, -1].numpy(), bins=100, alpha=0.7,\n",
    "         color='blue', edgecolor='black')\n",
    "plt.xlabel(\"Value\")\n",
    "plt.ylabel(\"Frequency\")\n",
    "plt.title(\"Histogram of Balanced Scores\")\n",
    "plt.grid(True)\n",
    "\n",
    "# Show plot\n",
    "plt.show()"
   ]
  },
  {
   "cell_type": "code",
   "execution_count": 9,
   "metadata": {},
   "outputs": [
    {
     "data": {
      "image/png": "[encoded data removed]",
      "text/plain": [
       "<Figure size 640x480 with 1 Axes>"
      ]
     },
     "metadata": {},
     "output_type": "display_data"
    }
   ],
   "source": [
    "# Plot histogram scores\n",
    "# idx = (all_scores >= 0.55).all(dim=1)\n",
    "idx = (all_scores[:, -1] >= 0.60)\n",
    "filtered_scores = all_scores[idx]\n",
    "plt.hist(filtered_scores[:, -1].numpy(), bins=100, alpha=0.7,\n",
    "         color='blue', edgecolor='black')\n",
    "plt.xlabel(\"Value\")\n",
    "plt.ylabel(\"Frequency\")\n",
    "plt.title(\"Histogram of Balanced Scores\")\n",
    "plt.grid(True)\n",
    "\n",
    "# Show plot\n",
    "plt.show()"
   ]
  },
  {
   "cell_type": "code",
   "execution_count": 10,
   "metadata": {},
   "outputs": [],
   "source": [
    "lower_bound = 0.60\n",
    "\n",
    "# idx = (all_scores >= lower_bound).all(dim=1)\n",
    "idx = (all_scores[:, -1] >= lower_bound)\n",
    "\n",
    "all_labels = all_labels[idx]\n",
    "all_params = all_params[idx]\n",
    "all_scores = all_scores[idx]"
   ]
  },
  {
   "cell_type": "markdown",
   "metadata": {},
   "source": [
    "## Black-box attack"
   ]
  },
  {
   "cell_type": "code",
   "execution_count": 18,
   "metadata": {},
   "outputs": [
    {
     "name": "stderr",
     "output_type": "stream",
     "text": [
      "/export/anaconda3/envs/loris/lib/python3.11/site-packages/sklearn/neural_network/_multilayer_perceptron.py:691: ConvergenceWarning: Stochastic Optimizer: Maximum iterations (100) reached and the optimization hasn't converged yet.\n",
      "  warnings.warn(\n"
     ]
    },
    {
     "data": {
      "text/plain": [
       "['/mathqi/joserapa/LORIS/attacks/attack_models/llr6/mlp_attacker_multilabel_bb.pkl']"
      ]
     },
     "execution_count": 18,
     "metadata": {},
     "output_type": "execute_result"
    }
   ],
   "source": [
    "# Black-box attack\n",
    "X, y = all_scores, all_labels\n",
    "\n",
    "# Train-test split\n",
    "X_train, X_test, y_train, y_test = train_test_split(X, y,\n",
    "                                                    test_size=0.2,\n",
    "                                                    random_state=42)\n",
    "\n",
    "# Define and train the MLP model\n",
    "# mlp_bb = MLPClassifier(hidden_layer_sizes=(256, 128, 64, 32),\n",
    "#                        activation=\"relu\",\n",
    "#                        solver=\"adam\",\n",
    "#                        max_iter=1000)\n",
    "mlp_bb = MLPClassifier(hidden_layer_sizes=(128, 32),\n",
    "                       activation=\"relu\",\n",
    "                       solver=\"adam\",\n",
    "                       max_iter=100)\n",
    "mlp_bb.fit(X_train, y_train)\n",
    "\n",
    "# Save model\n",
    "attack_model_dir = os.path.join(cwd, 'attack_models', model_name)\n",
    "os.makedirs(attack_model_dir, exist_ok=True)\n",
    "\n",
    "# joblib.dump(mlp_bb, os.path.join(attack_model_dir,\n",
    "#                                  'mlp_attacker_multilabel_bb.pkl'))"
   ]
  },
  {
   "cell_type": "code",
   "execution_count": 19,
   "metadata": {},
   "outputs": [],
   "source": [
    "attack_model_dir = os.path.join(cwd, 'attack_models', model_name)\n",
    "mlp_bb = joblib.load(os.path.join(attack_model_dir,\n",
    "                                  'mlp_attacker_multilabel_bb.pkl'))"
   ]
  },
  {
   "cell_type": "code",
   "execution_count": 20,
   "metadata": {},
   "outputs": [
    {
     "name": "stdout",
     "output_type": "stream",
     "text": [
      "F1-score: 0.842301469474322\n",
      "\n",
      "Confusion Matrix for Class 0 - Chowell_train:\n",
      "[[0.97363295 0.02636705]\n",
      " [0.01276007 0.98723993]]\n",
      "\n",
      "Confusion Matrix for Class 1 - Chowell_test:\n",
      "[[0.76392522 0.23607478]\n",
      " [0.0882048  0.9117952 ]]\n",
      "\n",
      "Confusion Matrix for Class 2 - MSK1:\n",
      "[[0.93333333 0.06666667]\n",
      " [0.08981009 0.91018991]]\n",
      "\n",
      "Confusion Matrix for Class 3 - MSK2:\n",
      "[[0.86037885 0.13962115]\n",
      " [0.122951   0.877049  ]]\n",
      "\n",
      "Confusion Matrix for Class 4 - Shim_NSCLC:\n",
      "[[0.72052766 0.27947234]\n",
      " [0.32741657 0.67258343]]\n",
      "\n",
      "Confusion Matrix for Class 5 - Kato_panCancer:\n",
      "[[0.61626415 0.38373585]\n",
      " [0.28216315 0.71783685]]\n",
      "\n",
      "Confusion Matrix for Class 6 - Vanguri_NSCLC:\n",
      "[[0.78347402 0.21652598]\n",
      " [0.17098806 0.82901194]]\n",
      "\n",
      "Confusion Matrix for Class 7 - Ravi_NSCLC:\n",
      "[[0.80770745 0.19229255]\n",
      " [0.10775738 0.89224262]]\n",
      "\n",
      "Confusion Matrix for Class 8 - Pradat_panCancer:\n",
      "[[0.88855114 0.11144886]\n",
      " [0.10155781 0.89844219]]\n",
      "\n",
      "\n",
      "              precision    recall  f1-score   support\n",
      "\n",
      "           0       0.98      0.99      0.98     46238\n",
      "           1       0.81      0.91      0.86     46290\n",
      "           2       0.94      0.91      0.92     45496\n",
      "           3       0.87      0.88      0.87     45205\n",
      "           4       0.72      0.67      0.69     45126\n",
      "           5       0.66      0.72      0.69     44694\n",
      "           6       0.80      0.83      0.81     44623\n",
      "           7       0.83      0.89      0.86     45157\n",
      "           8       0.89      0.90      0.89     43266\n",
      "\n",
      "   micro avg       0.83      0.86      0.84    406095\n",
      "   macro avg       0.83      0.86      0.84    406095\n",
      "weighted avg       0.83      0.86      0.84    406095\n",
      " samples avg       0.84      0.86      0.83    406095\n",
      "\n"
     ]
    }
   ],
   "source": [
    "# Predict probabilities and binary labels\n",
    "y_pred = mlp_bb.predict(X_test)\n",
    "\n",
    "# Evaluate using F1-score\n",
    "print(\"F1-score:\", f1_score(y_test, y_pred, average=\"micro\"))\n",
    "print()\n",
    "\n",
    "# Compute the confusion matrix for each label separately\n",
    "conf_matrices = multilabel_confusion_matrix(y_test, y_pred)\n",
    "\n",
    "# Display confusion matrices per class\n",
    "for i, cm in enumerate(conf_matrices):\n",
    "    cm_sum = cm.astype(np.float64).sum(axis=1, keepdims=True)  # Sum per row\n",
    "    cm_normalized = cm / (cm_sum + 1e-9)  # Avoid division by zero\n",
    "    print(f\"Confusion Matrix for Class {i} - {datasets[i]}:\\n{cm_normalized}\\n\")\n",
    "print()\n",
    "\n",
    "# Generate a detailed classification report\n",
    "print(classification_report(y_test, y_pred, zero_division=0))"
   ]
  },
  {
   "cell_type": "markdown",
   "metadata": {},
   "source": [
    "## White-box attack"
   ]
  },
  {
   "cell_type": "code",
   "execution_count": 9,
   "metadata": {},
   "outputs": [
    {
     "data": {
      "text/plain": [
       "['/home/jose/VSCodeProjects/LORIS/attacks/attack_models/llr6/mlp_attacker_multilabel_wb.pkl']"
      ]
     },
     "execution_count": 9,
     "metadata": {},
     "output_type": "execute_result"
    }
   ],
   "source": [
    "# White-box attack\n",
    "X, y = all_params, all_labels\n",
    "\n",
    "# Train-test split\n",
    "X_train, X_test, y_train, y_test = train_test_split(X, y,\n",
    "                                                    test_size=0.2,\n",
    "                                                    random_state=42)\n",
    "\n",
    "# Define and train the MLP model\n",
    "mlp_wb = MLPClassifier(hidden_layer_sizes=(256, 128, 64, 32),\n",
    "                       activation=\"relu\",\n",
    "                       solver=\"adam\",\n",
    "                       max_iter=1000)\n",
    "mlp_wb.fit(X_train, y_train)\n",
    "\n",
    "# Save model\n",
    "attack_model_dir = os.path.join(cwd, 'attack_models', model_name)\n",
    "os.makedirs(attack_model_dir, exist_ok=True)\n",
    "\n",
    "# joblib.dump(mlp_wb, os.path.join(attack_model_dir,\n",
    "#                                  'mlp_attacker_multilabel_wb.pkl'))\n",
    "# joblib.dump(mlp_wb, os.path.join(attack_model_dir,\n",
    "#                                  'mlp_attacker_multilabel_wb_bigmodel.pkl'))"
   ]
  },
  {
   "cell_type": "code",
   "execution_count": 10,
   "metadata": {},
   "outputs": [],
   "source": [
    "attack_model_dir = os.path.join(cwd, 'attack_models', model_name)\n",
    "mlp_wb = joblib.load(os.path.join(attack_model_dir,\n",
    "                                  'mlp_attacker_multilabel_wb.pkl'))\n",
    "# mlp_wb = joblib.load(os.path.join(attack_model_dir,\n",
    "#                                   'mlp_attacker_multilabel_wb_bigmodel.pkl'))"
   ]
  },
  {
   "cell_type": "code",
   "execution_count": 11,
   "metadata": {},
   "outputs": [
    {
     "name": "stdout",
     "output_type": "stream",
     "text": [
      "F1-score: 0.8282928770393951\n",
      "\n",
      "Confusion Matrix for Class 0 - Chowell_train:\n",
      "[[0.95802469 0.04197531]\n",
      " [0.03754266 0.96245734]]\n",
      "\n",
      "Confusion Matrix for Class 1 - Chowell_test:\n",
      "[[0.8658147  0.1341853 ]\n",
      " [0.07817109 0.92182891]]\n",
      "\n",
      "Confusion Matrix for Class 2 - MSK1:\n",
      "[[0.84988453 0.15011547]\n",
      " [0.08064516 0.91935484]]\n",
      "\n",
      "Confusion Matrix for Class 3 - MSK2:\n",
      "[[0.74545455 0.25454545]\n",
      " [0.29637097 0.70362903]]\n",
      "\n",
      "Confusion Matrix for Class 4 - Shim_NSCLC:\n",
      "[[0.81598063 0.18401937]\n",
      " [0.15051903 0.84948097]]\n",
      "\n",
      "Confusion Matrix for Class 5 - Kato_panCancer:\n",
      "[[0.65148515 0.34851485]\n",
      " [0.52263374 0.47736626]]\n",
      "\n",
      "Confusion Matrix for Class 6 - Vanguri_NSCLC:\n",
      "[[0.528      0.472     ]\n",
      " [0.18533605 0.81466395]]\n",
      "\n",
      "Confusion Matrix for Class 7 - Ravi_NSCLC:\n",
      "[[0.8807947  0.1192053 ]\n",
      " [0.05762082 0.94237918]]\n",
      "\n",
      "Confusion Matrix for Class 8 - Pradat_panCancer:\n",
      "[[0.68080357 0.31919643]\n",
      " [0.11233886 0.88766114]]\n",
      "\n",
      "\n",
      "              precision    recall  f1-score   support\n",
      "\n",
      "           0       0.97      0.96      0.97       586\n",
      "           1       0.94      0.92      0.93       678\n",
      "           2       0.89      0.92      0.90       558\n",
      "           3       0.73      0.70      0.72       496\n",
      "           4       0.87      0.85      0.86       578\n",
      "           5       0.57      0.48      0.52       486\n",
      "           6       0.63      0.81      0.71       491\n",
      "           7       0.90      0.94      0.92       538\n",
      "           8       0.77      0.89      0.83       543\n",
      "\n",
      "   micro avg       0.82      0.84      0.83      4954\n",
      "   macro avg       0.81      0.83      0.82      4954\n",
      "weighted avg       0.82      0.84      0.83      4954\n",
      " samples avg       0.81      0.84      0.81      4954\n",
      "\n"
     ]
    }
   ],
   "source": [
    "# Predict probabilities and binary labels\n",
    "y_pred = mlp_wb.predict(X_test)\n",
    "\n",
    "# Evaluate using F1-score\n",
    "print(\"F1-score:\", f1_score(y_test, y_pred, average=\"micro\"))\n",
    "print()\n",
    "\n",
    "# Compute the confusion matrix for each label separately\n",
    "conf_matrices = multilabel_confusion_matrix(y_test, y_pred)\n",
    "\n",
    "# Display confusion matrices per class\n",
    "for i, cm in enumerate(conf_matrices):\n",
    "    cm_sum = cm.astype(np.float64).sum(axis=1, keepdims=True)  # Sum per row\n",
    "    cm_normalized = cm / (cm_sum + 1e-9)  # Avoid division by zero\n",
    "    print(f\"Confusion Matrix for Class {i} - {datasets[i]}:\\n{cm_normalized}\\n\")\n",
    "print()\n",
    "\n",
    "# Generate a detailed classification report\n",
    "print(classification_report(y_test, y_pred, zero_division=0))"
   ]
  },
  {
   "cell_type": "markdown",
   "metadata": {},
   "source": [
    "### Evaluate LORIS"
   ]
  },
  {
   "cell_type": "code",
   "execution_count": 62,
   "metadata": {},
   "outputs": [],
   "source": [
    "def classify_by_dataset(model, params):\n",
    "    probs = model.predict_proba(params)[0, :]\n",
    "    \n",
    "    for i in range(len(datasets)):\n",
    "        print(f'{datasets[i]:>16}: {probs[i]:.4f}')"
   ]
  },
  {
   "cell_type": "code",
   "execution_count": 63,
   "metadata": {},
   "outputs": [
    {
     "data": {
      "text/plain": [
       "tensor([[ 3.7100e-02, -8.7750e-01,  5.3820e-01, -3.3000e-02,  4.9000e-03,\n",
       "         -3.3230e-01, -3.3230e-01, -1.0200e-01, -7.9000e-03,  5.5000e-01,\n",
       "          2.3060e-01,  6.7800e-02, -1.1890e-01, -8.6000e-03,  1.2550e-01,\n",
       "          8.0000e-04, -5.2000e-02, -1.1169e+00,  5.4510e-01,  5.4200e-02,\n",
       "         -3.3000e-03, -2.0886e+00]])"
      ]
     },
     "execution_count": 63,
     "metadata": {},
     "output_type": "execute_result"
    }
   ],
   "source": [
    "# ['TMB', 'Systemic_therapy_history', 'Albumin', 'NLR', 'Age',\n",
    "#  'CancerType1', 'CancerType2', 'CancerType3', 'CancerType4',\n",
    "#  'CancerType5', 'CancerType6', 'CancerType7', 'CancerType8',\n",
    "#  'CancerType9', 'CancerType10', 'CancerType11', 'CancerType12',\n",
    "#  'CancerType13', 'CancerType14', 'CancerType15', 'CancerType16']\n",
    "\n",
    "# S = 0.0371 * min(TMB, 50) - 0.8775 * PSTH + 0.5382 * Albumin - 0.033 * min(NLR, 25) + 0.0049 * min(Age, 85) + CTCT - 2.0886\n",
    "\n",
    "# CTCT = - 0.3323 * Bladder - 0.3323 * Breast - 0.102 * Colorectal - 0.0079 * Endometrial + 0.55 * Esophageal + 0.2306 * Gastric\n",
    "#     + 0.0678 * Head&Neck - 0.1189 * Hepatobiliary - 0.0086 * Melanoma + 0.1255 * Mesothelioma + 0.0008 * NSCLC\n",
    "#     - 0.052 * Ovarian - 1.1169 * Pancreatic + 0.5451 * Renal + 0.0542 * Sarcoma - 0.0033 * SCLC\n",
    "\n",
    "coeffs = [0.0371, -0.8775, 0.5382, -0.033, 0.0049, -0.3323, -0.3323, -0.102,\n",
    "          -0.0079, 0.55, 0.2306, 0.0678, -0.1189, -0.0086, 0.1255, 0.0008,\n",
    "          -0.052, -1.1169, 0.5451, 0.0542, -0.0033, -2.0886]\n",
    "X_loris = torch.tensor(coeffs).unsqueeze(0)\n",
    "X_loris"
   ]
  },
  {
   "cell_type": "code",
   "execution_count": 64,
   "metadata": {},
   "outputs": [
    {
     "name": "stdout",
     "output_type": "stream",
     "text": [
      "   Chowell_train: 1.0000\n",
      "    Chowell_test: 0.0012\n",
      "            MSK1: 0.0000\n",
      "            MSK2: 0.0016\n",
      "      Shim_NSCLC: 0.0000\n",
      "  Kato_panCancer: 0.4788\n",
      "   Vanguri_NSCLC: 0.0000\n",
      "      Ravi_NSCLC: 1.0000\n",
      "Pradat_panCancer: 0.0002\n"
     ]
    }
   ],
   "source": [
    "classify_by_dataset(mlp_wb, X_loris)"
   ]
  },
  {
   "cell_type": "code",
   "execution_count": null,
   "metadata": {},
   "outputs": [
    {
     "name": "stdout",
     "output_type": "stream",
     "text": [
      "   Chowell_train: 0.0000\n",
      "    Chowell_test: 0.0000\n",
      "            MSK1: 0.0000\n",
      "            MSK2: 0.0000\n",
      "      Shim_NSCLC: 0.0000\n",
      "  Kato_panCancer: 0.0000\n",
      "   Vanguri_NSCLC: 0.4936\n",
      "      Ravi_NSCLC: 0.0000\n",
      "Pradat_panCancer: 0.0000\n"
     ]
    }
   ],
   "source": [
    "classify_by_dataset(mlp_wb, X_loris)"
   ]
  },
  {
   "cell_type": "code",
   "execution_count": null,
   "metadata": {},
   "outputs": [
    {
     "name": "stdout",
     "output_type": "stream",
     "text": [
      "   Chowell_train: 1.0000\n",
      "    Chowell_test: 0.0000\n",
      "            MSK1: 0.0000\n",
      "            MSK2: 0.9459\n",
      "      Shim_NSCLC: 0.0000\n",
      "  Kato_panCancer: 0.0014\n",
      "   Vanguri_NSCLC: 0.0097\n",
      "      Ravi_NSCLC: 1.0000\n",
      "Pradat_panCancer: 0.0345\n"
     ]
    }
   ],
   "source": [
    "classify_by_dataset(mlp_wb, X_loris)"
   ]
  },
  {
   "cell_type": "markdown",
   "metadata": {},
   "source": [
    "## White-box attack ensemble"
   ]
  },
  {
   "cell_type": "code",
   "execution_count": 11,
   "metadata": {},
   "outputs": [
    {
     "name": "stdout",
     "output_type": "stream",
     "text": [
      "Training fold 1/5...\n",
      "Training fold 2/5...\n"
     ]
    },
    {
     "name": "stderr",
     "output_type": "stream",
     "text": [
      "/export/anaconda3/envs/loris/lib/python3.11/site-packages/sklearn/neural_network/_multilayer_perceptron.py:691: ConvergenceWarning: Stochastic Optimizer: Maximum iterations (100) reached and the optimization hasn't converged yet.\n",
      "  warnings.warn(\n"
     ]
    },
    {
     "name": "stdout",
     "output_type": "stream",
     "text": [
      "Training fold 3/5...\n",
      "Training fold 4/5...\n",
      "Training fold 5/5...\n"
     ]
    }
   ],
   "source": [
    "# White-box attack\n",
    "X, y = all_params, all_labels\n",
    "\n",
    "attack_model_dir = os.path.join(cwd, 'attack_models', model_name, scaler_type)\n",
    "os.makedirs(attack_model_dir, exist_ok=True)\n",
    "\n",
    "# First: Train/Test Split (held-out test set)\n",
    "X_train_full, X_test, y_train_full, y_test = train_test_split(\n",
    "    X, y, test_size=0.2, random_state=42)\n",
    "\n",
    "# Save held-out test set (optional)\n",
    "# joblib.dump((X_test, y_test), os.path.join(attack_model_dir,\n",
    "#                                            'heldout_test_set.pkl'))\n",
    "\n",
    "# K-Fold CV on training set\n",
    "n_splits = 5\n",
    "kfold = KFold(n_splits=n_splits, shuffle=True, random_state=42)\n",
    "\n",
    "for fold, (train_index, val_index) in enumerate(kfold.split(X_train_full,\n",
    "                                                            y_train_full)):\n",
    "    print(f\"Training fold {fold+1}/{n_splits}...\")\n",
    "\n",
    "    X_train, X_val = X_train_full[train_index], X_train_full[val_index]\n",
    "    y_train, y_val = y_train_full[train_index], y_train_full[val_index]\n",
    "\n",
    "    # Define and train the model\n",
    "    # mlp_wb = MLPClassifier(hidden_layer_sizes=(256, 128, 64, 32),\n",
    "    #                        activation=\"relu\",\n",
    "    #                        solver=\"adam\",\n",
    "    #                        max_iter=500)\n",
    "    mlp_wb = MLPClassifier(hidden_layer_sizes=(128, 32),\n",
    "                           activation=\"relu\",\n",
    "                           solver=\"adam\",\n",
    "                           max_iter=100)\n",
    "    mlp_wb.fit(X_train, y_train)\n",
    "\n",
    "    # Save model for this fold\n",
    "    # joblib.dump(mlp_wb,\n",
    "    #             os.path.join(attack_model_dir,\n",
    "    #                          f'mlp_attacker_multilabel_wb_fold_{fold+1}.pkl'))"
   ]
  },
  {
   "cell_type": "code",
   "execution_count": 12,
   "metadata": {},
   "outputs": [],
   "source": [
    "# Save held-out test set (optional)\n",
    "attack_model_dir = os.path.join(cwd, 'attack_models', model_name, scaler_type)\n",
    "X_test, y_test = joblib.load(os.path.join(attack_model_dir,\n",
    "                                          'heldout_test_set.pkl'))\n",
    "\n",
    "# Load models\n",
    "n_splits = 5\n",
    "loaded_models = []\n",
    "\n",
    "# Load each model\n",
    "for fold in range(1, n_splits + 1):\n",
    "    model_path = os.path.join(attack_model_dir,\n",
    "                              f'mlp_attacker_multilabel_wb_fold_{fold}.pkl')\n",
    "    model = joblib.load(model_path)\n",
    "    loaded_models.append(model)"
   ]
  },
  {
   "cell_type": "code",
   "execution_count": 13,
   "metadata": {},
   "outputs": [
    {
     "name": "stdout",
     "output_type": "stream",
     "text": [
      "Ensemble accuracy: 0.9996\n"
     ]
    }
   ],
   "source": [
    "# Multilabel: average predictions and apply threshold\n",
    "all_preds = np.array([model.predict_proba(X_test) for model in loaded_models])\n",
    "avg_preds = np.mean(all_preds, axis=0)\n",
    "final_preds = (avg_preds >= 0.5).astype(int)\n",
    "\n",
    "# Accuracy (or any other metric)\n",
    "acc = accuracy_score(y_test, final_preds)\n",
    "print(f\"Ensemble accuracy: {acc:.4f}\")"
   ]
  },
  {
   "cell_type": "code",
   "execution_count": 14,
   "metadata": {},
   "outputs": [
    {
     "name": "stdout",
     "output_type": "stream",
     "text": [
      "F1-score: 0.9999532125725206\n",
      "\n",
      "Confusion Matrix for Class 0 - Chowell_train:\n",
      "[[1. 0.]\n",
      " [0. 1.]]\n",
      "\n",
      "Confusion Matrix for Class 1 - Chowell_test:\n",
      "[[1. 0.]\n",
      " [0. 1.]]\n",
      "\n",
      "Confusion Matrix for Class 2 - MSK1:\n",
      "[[1. 0.]\n",
      " [0. 1.]]\n",
      "\n",
      "Confusion Matrix for Class 3 - MSK2:\n",
      "[[9.99953630e-01 4.63703601e-05]\n",
      " [2.21214467e-05 9.99977879e-01]]\n",
      "\n",
      "Confusion Matrix for Class 4 - Shim_NSCLC:\n",
      "[[1.00000000e+00 0.00000000e+00]\n",
      " [2.21601737e-05 9.99977840e-01]]\n",
      "\n",
      "Confusion Matrix for Class 5 - Kato_panCancer:\n",
      "[[9.99679208e-01 3.20791898e-04]\n",
      " [4.47487358e-04 9.99552513e-01]]\n",
      "\n",
      "Confusion Matrix for Class 6 - Vanguri_NSCLC:\n",
      "[[1. 0.]\n",
      " [0. 1.]]\n",
      "\n",
      "Confusion Matrix for Class 7 - Ravi_NSCLC:\n",
      "[[1. 0.]\n",
      " [0. 1.]]\n",
      "\n",
      "Confusion Matrix for Class 8 - Pradat_panCancer:\n",
      "[[1. 0.]\n",
      " [0. 1.]]\n",
      "\n",
      "\n",
      "              precision    recall  f1-score   support\n",
      "\n",
      "           0       1.00      1.00      1.00     46238\n",
      "           1       1.00      1.00      1.00     46290\n",
      "           2       1.00      1.00      1.00     45496\n",
      "           3       1.00      1.00      1.00     45205\n",
      "           4       1.00      1.00      1.00     45126\n",
      "           5       1.00      1.00      1.00     44694\n",
      "           6       1.00      1.00      1.00     44623\n",
      "           7       1.00      1.00      1.00     45157\n",
      "           8       1.00      1.00      1.00     43266\n",
      "\n",
      "   micro avg       1.00      1.00      1.00    406095\n",
      "   macro avg       1.00      1.00      1.00    406095\n",
      "weighted avg       1.00      1.00      1.00    406095\n",
      " samples avg       1.00      1.00      1.00    406095\n",
      "\n"
     ]
    }
   ],
   "source": [
    "# Evaluate using F1-score\n",
    "print(\"F1-score:\", f1_score(y_test, final_preds, average=\"micro\"))\n",
    "print()\n",
    "\n",
    "# Compute the confusion matrix for each label separately\n",
    "conf_matrices = multilabel_confusion_matrix(y_test, final_preds)\n",
    "\n",
    "# Display confusion matrices per class\n",
    "for i, cm in enumerate(conf_matrices):\n",
    "    cm_sum = cm.astype(np.float64).sum(axis=1, keepdims=True)  # Sum per row\n",
    "    cm_normalized = cm / (cm_sum + 1e-9)  # Avoid division by zero\n",
    "    print(f\"Confusion Matrix for Class {i} - {datasets[i]}:\\n{cm_normalized}\\n\")\n",
    "print()\n",
    "\n",
    "# Generate a detailed classification report\n",
    "print(classification_report(y_test, final_preds, zero_division=0))"
   ]
  },
  {
   "cell_type": "markdown",
   "metadata": {},
   "source": [
    "### Evaluate LORIS"
   ]
  },
  {
   "cell_type": "code",
   "execution_count": 15,
   "metadata": {},
   "outputs": [],
   "source": [
    "def classify_by_dataset(models, params):\n",
    "    # Multilabel: average predictions and apply threshold\n",
    "    all_preds = np.array([model.predict_proba(params) for model in models])\n",
    "    avg_preds = np.mean(all_preds, axis=0)\n",
    "    \n",
    "    \n",
    "    for i in range(len(datasets)):\n",
    "        print(f'{datasets[i]:>16}: {avg_preds[0][i]:.4f}')"
   ]
  },
  {
   "cell_type": "code",
   "execution_count": 16,
   "metadata": {},
   "outputs": [
    {
     "data": {
      "text/plain": [
       "tensor([[ 3.7100e-02, -8.7750e-01,  5.3820e-01, -3.3000e-02,  4.9000e-03,\n",
       "         -3.3230e-01, -3.3230e-01, -1.0200e-01, -7.9000e-03,  5.5000e-01,\n",
       "          2.3060e-01,  6.7800e-02, -1.1890e-01, -8.6000e-03,  1.2550e-01,\n",
       "          8.0000e-04, -5.2000e-02, -1.1169e+00,  5.4510e-01,  5.4200e-02,\n",
       "         -3.3000e-03, -2.0886e+00]])"
      ]
     },
     "execution_count": 16,
     "metadata": {},
     "output_type": "execute_result"
    }
   ],
   "source": [
    "# ['TMB', 'Systemic_therapy_history', 'Albumin', 'NLR', 'Age',\n",
    "#  'CancerType1', 'CancerType2', 'CancerType3', 'CancerType4',\n",
    "#  'CancerType5', 'CancerType6', 'CancerType7', 'CancerType8',\n",
    "#  'CancerType9', 'CancerType10', 'CancerType11', 'CancerType12',\n",
    "#  'CancerType13', 'CancerType14', 'CancerType15', 'CancerType16']\n",
    "\n",
    "# S = 0.0371 * min(TMB, 50) - 0.8775 * PSTH + 0.5382 * Albumin - 0.033 * min(NLR, 25) + 0.0049 * min(Age, 85) + CTCT - 2.0886\n",
    "\n",
    "# CTCT = - 0.3323 * Bladder - 0.3323 * Breast - 0.102 * Colorectal - 0.0079 * Endometrial + 0.55 * Esophageal + 0.2306 * Gastric\n",
    "#     + 0.0678 * Head&Neck - 0.1189 * Hepatobiliary - 0.0086 * Melanoma + 0.1255 * Mesothelioma + 0.0008 * NSCLC\n",
    "#     - 0.052 * Ovarian - 1.1169 * Pancreatic + 0.5451 * Renal + 0.0542 * Sarcoma - 0.0033 * SCLC\n",
    "\n",
    "coeffs = [0.0371, -0.8775, 0.5382, -0.033, 0.0049, -0.3323, -0.3323, -0.102,\n",
    "          -0.0079, 0.55, 0.2306, 0.0678, -0.1189, -0.0086, 0.1255, 0.0008,\n",
    "          -0.052, -1.1169, 0.5451, 0.0542, -0.0033, -2.0886]\n",
    "X_loris = torch.tensor(coeffs).unsqueeze(0)\n",
    "X_loris"
   ]
  },
  {
   "cell_type": "code",
   "execution_count": null,
   "metadata": {},
   "outputs": [],
   "source": [
    "# tensor([ 0.0383, -0.9419,  0.4187, -0.0231,  0.0035, -0.1131, -0.1279, -0.1152,\n",
    "#          0.0253,  0.0543,  0.0398,  0.1074, -0.1001, -0.0067, -0.0130, -0.0044,\n",
    "#         -0.0276, -0.5440,  0.5321,  0.0412,  0.0756, -1.5578],\n",
    "#        dtype=torch.float64)"
   ]
  },
  {
   "cell_type": "code",
   "execution_count": null,
   "metadata": {},
   "outputs": [
    {
     "name": "stdout",
     "output_type": "stream",
     "text": [
      "   Chowell_train: 1.0000\n",
      "    Chowell_test: 0.0000\n",
      "            MSK1: 0.9997\n",
      "            MSK2: 0.9919\n",
      "      Shim_NSCLC: 0.2042\n",
      "  Kato_panCancer: 1.0000\n",
      "   Vanguri_NSCLC: 0.9991\n",
      "      Ravi_NSCLC: 0.0000\n",
      "Pradat_panCancer: 0.0000\n"
     ]
    }
   ],
   "source": [
    "classify_by_dataset(loaded_models, X_loris)"
   ]
  },
  {
   "cell_type": "markdown",
   "metadata": {},
   "source": [
    "### Check other models"
   ]
  },
  {
   "cell_type": "code",
   "execution_count": 18,
   "metadata": {},
   "outputs": [
    {
     "name": "stdout",
     "output_type": "stream",
     "text": [
      "torch.Size([28, 22])\n"
     ]
    },
    {
     "data": {
      "text/plain": [
       "tensor([[ 0.4457, -0.3815,  0.1710, -0.1545,  0.0886, -0.1159, -0.0283, -0.0149,\n",
       "          0.0000,  0.0569,  0.0080,  0.0005, -0.0459,  0.0000,  0.0430,  0.0000,\n",
       "          0.0000, -0.1607,  0.1467,  0.0000,  0.0000, -0.1122]],\n",
       "       dtype=torch.float64)"
      ]
     },
     "execution_count": 18,
     "metadata": {},
     "output_type": "execute_result"
    }
   ],
   "source": [
    "aux_datasets = [0, 4, 5]\n",
    "cond1 = y_test.sum(dim=1) == len(aux_datasets)\n",
    "cond2 = y_test[:, aux_datasets].all(dim=1)\n",
    "aux_params = X_test[cond1 * cond2]\n",
    "\n",
    "print(aux_params.shape)\n",
    "idx = torch.randperm(aux_params.shape[0])[0]\n",
    "aux_coeffs = aux_params[idx].unsqueeze(0)\n",
    "aux_coeffs"
   ]
  },
  {
   "cell_type": "code",
   "execution_count": 19,
   "metadata": {},
   "outputs": [
    {
     "name": "stdout",
     "output_type": "stream",
     "text": [
      "   Chowell_train: 1.0000\n",
      "    Chowell_test: 0.0002\n",
      "            MSK1: 0.0008\n",
      "            MSK2: 0.0646\n",
      "      Shim_NSCLC: 0.9844\n",
      "  Kato_panCancer: 0.8328\n",
      "   Vanguri_NSCLC: 0.4854\n",
      "      Ravi_NSCLC: 0.0006\n",
      "Pradat_panCancer: 0.0002\n"
     ]
    }
   ],
   "source": [
    "classify_by_dataset(loaded_models, aux_coeffs)"
   ]
  },
  {
   "cell_type": "code",
   "execution_count": null,
   "metadata": {},
   "outputs": [],
   "source": []
  }
 ],
 "metadata": {
  "kernelspec": {
   "display_name": "loris",
   "language": "python",
   "name": "python3"
  },
  "language_info": {
   "codemirror_mode": {
    "name": "ipython",
    "version": 3
   },
   "file_extension": ".py",
   "mimetype": "text/x-python",
   "name": "python",
   "nbconvert_exporter": "python",
   "pygments_lexer": "ipython3",
   "version": "3.11.11"
  }
 },
 "nbformat": 4,
 "nbformat_minor": 2
}
