{
 "cells": [
  {
   "cell_type": "code",
   "execution_count": 1,
   "metadata": {},
   "outputs": [],
   "source": [
    "import os\n",
    "import joblib\n",
    "import json\n",
    "\n",
    "from sklearn.neural_network import MLPClassifier\n",
    "from sklearn.model_selection import train_test_split, KFold\n",
    "from sklearn.metrics import f1_score, multilabel_confusion_matrix, \\\n",
    "    classification_report, accuracy_score\n",
    "\n",
    "import numpy as np\n",
    "import matplotlib.pyplot as plt\n",
    "\n",
    "import torch"
   ]
  },
  {
   "cell_type": "code",
   "execution_count": null,
   "metadata": {},
   "outputs": [],
   "source": [
    "# TODO: instead of averaging models of all types, we should only average models\n",
    "# trained with the same set of hyperparameters\n",
    "\n",
    "# TODO: since training is a random process, we can also train several models\n",
    "# using the same hyperparameters and partition of the dataset. Then, when\n",
    "# averaging, we should average over models with the same hyperparameters but\n",
    "# different dataset partition\n",
    "\n",
    "# TODO: Maybe we should not average models as a method to improve privacy"
   ]
  },
  {
   "cell_type": "markdown",
   "metadata": {},
   "source": [
    "# Create datasets"
   ]
  },
  {
   "cell_type": "code",
   "execution_count": 2,
   "metadata": {},
   "outputs": [],
   "source": [
    "cwd = os.getcwd()\n",
    "\n",
    "datasets = ['Chowell_train', 'Chowell_test', 'MSK1', 'MSK2', 'Shim_NSCLC',\n",
    "            'Kato_panCancer', 'Vanguri_NSCLC', 'Ravi_NSCLC', 'Pradat_panCancer']\n",
    "datasets_ids = list(range(1, len(datasets) + 1))"
   ]
  },
  {
   "cell_type": "code",
   "execution_count": null,
   "metadata": {},
   "outputs": [],
   "source": [
    "# Create whole models dataset\n",
    "model_name = 'llr6' # 'llr6' or 'nn2'\n",
    "scaler_type = 'standard' # 'standard' or 'minimax'\n",
    "\n",
    "all_labels = []\n",
    "all_params = []\n",
    "all_bal_accs = []\n",
    "all_auc_scores = []\n",
    "\n",
    "datasets_dir = os.path.join(cwd, 'datasets', model_name, scaler_type, 'vanilla')\n",
    "os.makedirs(datasets_dir, exist_ok=True)\n",
    "\n",
    "models_dir = os.path.join(cwd, 'models', model_name, scaler_type, 'vanilla')\n",
    "for comb in os.listdir(models_dir):\n",
    "    aux_labels = [int(n) - 1 for n in comb.split('_')]\n",
    "    one_hot_label = torch.zeros(len(datasets))\n",
    "    one_hot_label[aux_labels] = 1\n",
    "    \n",
    "    comb_dir = os.path.join(models_dir, comb)\n",
    "    for C in [0.1, 1.0, 10.0]:\n",
    "        for l1 in [0.0, 0.5, 1.0]:\n",
    "            for i in range(100):\n",
    "                params_file = f'{C}_{l1}_{i}_params.pkl'\n",
    "                bal_accs_file = f'{C}_{l1}_{i}_bal_accs.json'\n",
    "                auc_scores_file = f'{C}_{l1}_{i}_auc_scores.json'\n",
    "                \n",
    "                # params\n",
    "                params_dir = os.path.join(comb_dir, params_file)\n",
    "                params = joblib.load(params_dir)\n",
    "                    \n",
    "                all_labels.append(one_hot_label.clone())\n",
    "                all_params.append(params.clone())\n",
    "                \n",
    "                aux_labels = [int(n) - 1 for n in comb.split('_')]\n",
    "                \n",
    "                # bal accs\n",
    "                bal_accs_dir = os.path.join(comb_dir, bal_accs_file)\n",
    "                with open(bal_accs_dir, 'r') as f:\n",
    "                    bal_accs_dict = json.load(f)\n",
    "                \n",
    "                bal_accs_vector = torch.zeros(len(datasets) + 1)\n",
    "                for dat_id in datasets_ids:\n",
    "                    bal_accs_vector[dat_id - 1] = bal_accs_dict[str(dat_id)]\n",
    "                bal_accs_vector[-1] = bal_accs_dict['all']\n",
    "                \n",
    "                all_bal_accs.append(bal_accs_vector)\n",
    "                \n",
    "                # auc scores\n",
    "                auc_scores_dir = os.path.join(comb_dir, auc_scores_file)\n",
    "                with open(auc_scores_dir, 'r') as f:\n",
    "                    auc_scores_dict = json.load(f)\n",
    "                \n",
    "                auc_scores_vector = torch.zeros(len(datasets) + 1)\n",
    "                for dat_id in datasets_ids:\n",
    "                    auc_scores_vector[dat_id - 1] = auc_scores_dict[str(dat_id)]\n",
    "                auc_scores_vector[-1] = auc_scores_dict['all']\n",
    "                \n",
    "                all_auc_scores.append(auc_scores_vector)\n",
    "\n",
    "all_labels = torch.stack(all_labels, dim=0).int()\n",
    "all_params = torch.stack(all_params, dim=0)\n",
    "all_bal_accs = torch.stack(all_bal_accs, dim=0)\n",
    "all_auc_scores = torch.stack(all_auc_scores, dim=0)\n",
    "\n",
    "# torch.save((all_labels, all_params, all_bal_accs, all_auc_scores),\n",
    "#            os.path.join(datasets_dir, 'params_multilabel.pt'))"
   ]
  },
  {
   "cell_type": "code",
   "execution_count": 10,
   "metadata": {},
   "outputs": [],
   "source": [
    "cond = (all_labels == torch.tensor([1, 0, 0, 0, 0, 0, 0, 0, 0])).all(dim=1)"
   ]
  },
  {
   "cell_type": "code",
   "execution_count": 11,
   "metadata": {},
   "outputs": [
    {
     "data": {
      "text/plain": [
       "tensor([[1, 0, 0,  ..., 0, 0, 0],\n",
       "        [1, 0, 0,  ..., 0, 0, 0],\n",
       "        [1, 0, 0,  ..., 0, 0, 0],\n",
       "        ...,\n",
       "        [1, 0, 0,  ..., 0, 0, 0],\n",
       "        [1, 0, 0,  ..., 0, 0, 0],\n",
       "        [1, 0, 0,  ..., 0, 0, 0]], dtype=torch.int32)"
      ]
     },
     "execution_count": 11,
     "metadata": {},
     "output_type": "execute_result"
    }
   ],
   "source": [
    "all_labels[cond]"
   ]
  },
  {
   "cell_type": "code",
   "execution_count": 12,
   "metadata": {},
   "outputs": [
    {
     "data": {
      "text/plain": [
       "tensor([ 4.1880e-02, -7.5578e-01,  5.2582e-01, -3.2770e-02,  1.7373e-03,\n",
       "        -3.3464e-01, -4.6585e-01, -4.3904e-01,  1.1167e-01,  5.7964e-01,\n",
       "         1.8843e-01,  8.4085e-02, -3.0920e-02,  0.0000e+00,  5.1239e-01,\n",
       "        -1.5643e-02,  0.0000e+00, -1.1611e+00,  5.2785e-01,  0.0000e+00,\n",
       "         0.0000e+00, -1.9501e+00], dtype=torch.float64)"
      ]
     },
     "execution_count": 12,
     "metadata": {},
     "output_type": "execute_result"
    }
   ],
   "source": [
    "all_params[cond][200:300, :][0]"
   ]
  },
  {
   "cell_type": "code",
   "execution_count": 13,
   "metadata": {},
   "outputs": [
    {
     "name": "stdout",
     "output_type": "stream",
     "text": [
      "C=0.1 , l1=0.0, mean: 0.7475, std: 0.0064\n",
      "C=0.1 , l1=0.5, mean: 0.7497, std: 0.0059\n",
      "C=0.1 , l1=1.0, mean: 0.7519, std: 0.0037\n",
      "C=1.0 , l1=0.0, mean: 0.7475, std: 0.0065\n",
      "C=1.0 , l1=0.5, mean: 0.7475, std: 0.0063\n",
      "C=1.0 , l1=1.0, mean: 0.7479, std: 0.0064\n",
      "C=10.0, l1=0.0, mean: 0.7473, std: 0.0056\n",
      "C=10.0, l1=0.5, mean: 0.7479, std: 0.0063\n",
      "C=10.0, l1=1.0, mean: 0.7475, std: 0.0067\n"
     ]
    }
   ],
   "source": [
    "# Evaluate on Chowell_test\n",
    "for iC, C in enumerate([0.1, 1.0, 10.0]):\n",
    "    for il1, l1 in enumerate([0.0, 0.5, 1.0]):\n",
    "        i = 3* iC + il1\n",
    "        aux = all_auc_scores[cond][(i*100):((i+1)*100), 1]\n",
    "        print(f'{C=:<4}, {l1=}, mean: {aux.mean().item():.4f}, std: {aux.std().item():.4f}')"
   ]
  },
  {
   "cell_type": "code",
   "execution_count": 14,
   "metadata": {},
   "outputs": [
    {
     "name": "stdout",
     "output_type": "stream",
     "text": [
      "C=0.1 , l1=0.0, mean: 0.7412, std: 0.0021\n",
      "C=0.1 , l1=0.5, mean: 0.7408, std: 0.0022\n",
      "C=0.1 , l1=1.0, mean: 0.7381, std: 0.0024\n",
      "C=1.0 , l1=0.0, mean: 0.7412, std: 0.0023\n",
      "C=1.0 , l1=0.5, mean: 0.7410, std: 0.0022\n",
      "C=1.0 , l1=1.0, mean: 0.7411, std: 0.0020\n",
      "C=10.0, l1=0.0, mean: 0.7411, std: 0.0017\n",
      "C=10.0, l1=0.5, mean: 0.7411, std: 0.0021\n",
      "C=10.0, l1=1.0, mean: 0.7408, std: 0.0023\n"
     ]
    }
   ],
   "source": [
    "# Evaluate on Chowell_train\n",
    "for iC, C in enumerate([0.1, 1.0, 10.0]):\n",
    "    for il1, l1 in enumerate([0.0, 0.5, 1.0]):\n",
    "        i = 3* iC + il1\n",
    "        aux = all_auc_scores[cond][(i*100):((i+1)*100), 0]\n",
    "        print(f'{C=:<4}, {l1=}, mean: {aux.mean().item():.4f}, std: {aux.std().item():.4f}')"
   ]
  },
  {
   "cell_type": "markdown",
   "metadata": {},
   "source": [
    "# LLR6"
   ]
  },
  {
   "cell_type": "markdown",
   "metadata": {},
   "source": [
    "## Load and filter datasets"
   ]
  },
  {
   "cell_type": "code",
   "execution_count": 15,
   "metadata": {},
   "outputs": [],
   "source": [
    "model_name = 'llr6' # 'llr6' or 'nn2'\n",
    "scaler_type = 'standard' # 'standard' or 'minimax'\n",
    "dataset_dir = os.path.join(cwd, 'datasets', model_name, scaler_type, 'vanilla',\n",
    "                           'params_multilabel.pt')\n",
    "\n",
    "all_labels, all_params, all_bal_accs, all_auc_scores = \\\n",
    "    torch.load(dataset_dir, weights_only=True)"
   ]
  },
  {
   "cell_type": "code",
   "execution_count": 16,
   "metadata": {},
   "outputs": [
    {
     "data": {
      "image/png": "[encoded data removed]",
      "text/plain": [
       "<Figure size 640x480 with 1 Axes>"
      ]
     },
     "metadata": {},
     "output_type": "display_data"
    }
   ],
   "source": [
    "# Plot histogram scores\n",
    "plt.hist(all_bal_accs[:, -1].numpy(), bins=100, alpha=0.7,\n",
    "         color='blue', edgecolor='black')\n",
    "plt.xlabel(\"Value\")\n",
    "plt.ylabel(\"Frequency\")\n",
    "plt.title(\"Histogram of Balanced Scores\")\n",
    "plt.grid(True)\n",
    "\n",
    "# Show plot\n",
    "plt.show()"
   ]
  },
  {
   "cell_type": "code",
   "execution_count": 17,
   "metadata": {},
   "outputs": [
    {
     "data": {
      "image/png": "[encoded data removed]",
      "text/plain": [
       "<Figure size 640x480 with 1 Axes>"
      ]
     },
     "metadata": {},
     "output_type": "display_data"
    }
   ],
   "source": [
    "# Plot histogram scores\n",
    "# idx = (all_bal_accs >= 0.55).all(dim=1)\n",
    "idx = (all_bal_accs[:, -1] >= 0.64)\n",
    "filtered_scores = all_bal_accs[idx]\n",
    "plt.hist(filtered_scores[:, -1].numpy(), bins=100, alpha=0.7,\n",
    "         color='blue', edgecolor='black')\n",
    "plt.xlabel(\"Value\")\n",
    "plt.ylabel(\"Frequency\")\n",
    "plt.title(\"Histogram of Balanced Scores\")\n",
    "plt.grid(True)\n",
    "\n",
    "# Show plot\n",
    "plt.show()"
   ]
  },
  {
   "cell_type": "code",
   "execution_count": 18,
   "metadata": {},
   "outputs": [],
   "source": [
    "lower_bound = 0.64\n",
    "\n",
    "# idx = (all_bal_accs >= lower_bound).all(dim=1)\n",
    "idx = (all_bal_accs[:, -1] >= lower_bound)\n",
    "\n",
    "all_labels = all_labels[idx]\n",
    "all_params = all_params[idx]\n",
    "all_bal_accs = all_bal_accs[idx]\n",
    "all_auc_scores = all_auc_scores[idx]"
   ]
  },
  {
   "cell_type": "markdown",
   "metadata": {},
   "source": [
    "## Black-box attack"
   ]
  },
  {
   "cell_type": "code",
   "execution_count": 19,
   "metadata": {},
   "outputs": [
    {
     "name": "stderr",
     "output_type": "stream",
     "text": [
      "/export/anaconda3/envs/loris/lib/python3.11/site-packages/sklearn/neural_network/_multilayer_perceptron.py:691: ConvergenceWarning: Stochastic Optimizer: Maximum iterations (100) reached and the optimization hasn't converged yet.\n",
      "  warnings.warn(\n"
     ]
    },
    {
     "data": {
      "text/plain": [
       "['/mathqi/joserapa/tns4loris/attacks/attack_models/llr6/standard/vanilla/mlp_attacker_multilabel_bb.pkl']"
      ]
     },
     "execution_count": 19,
     "metadata": {},
     "output_type": "execute_result"
    }
   ],
   "source": [
    "# Black-box attack\n",
    "X, y = all_bal_accs, all_labels\n",
    "\n",
    "# Train-test split\n",
    "X_train, X_test, y_train, y_test = train_test_split(X, y,\n",
    "                                                    test_size=0.2,\n",
    "                                                    random_state=42)\n",
    "\n",
    "# Define and train the MLP model\n",
    "# mlp_bb = MLPClassifier(hidden_layer_sizes=(256, 128, 64, 32),\n",
    "#                        activation=\"relu\",\n",
    "#                        solver=\"adam\",\n",
    "#                        max_iter=1000)\n",
    "mlp_bb = MLPClassifier(hidden_layer_sizes=(128, 32),\n",
    "                       activation=\"relu\",\n",
    "                       solver=\"adam\",\n",
    "                       max_iter=100)\n",
    "mlp_bb.fit(X_train, y_train)\n",
    "\n",
    "# Save model\n",
    "attack_model_dir = os.path.join(cwd, 'attack_models', model_name,\n",
    "                                scaler_type, 'vanilla')\n",
    "os.makedirs(attack_model_dir, exist_ok=True)\n",
    "\n",
    "# joblib.dump(mlp_bb, os.path.join(attack_model_dir,\n",
    "#                                  'mlp_attacker_multilabel_bb.pkl'))"
   ]
  },
  {
   "cell_type": "code",
   "execution_count": 20,
   "metadata": {},
   "outputs": [],
   "source": [
    "attack_model_dir = os.path.join(cwd, 'attack_models', model_name,\n",
    "                                scaler_type, 'vanilla')\n",
    "mlp_bb = joblib.load(os.path.join(attack_model_dir,\n",
    "                                  'mlp_attacker_multilabel_bb.pkl'))"
   ]
  },
  {
   "cell_type": "code",
   "execution_count": 21,
   "metadata": {},
   "outputs": [
    {
     "name": "stdout",
     "output_type": "stream",
     "text": [
      "F1-score: 0.7669174213687315\n",
      "\n",
      "Confusion Matrix for Class 0 - Chowell_train:\n",
      "[[0.83945132 0.16054868]\n",
      " [0.05736171 0.94263829]]\n",
      "\n",
      "Confusion Matrix for Class 1 - Chowell_test:\n",
      "[[0.79683739 0.20316261]\n",
      " [0.06668769 0.93331231]]\n",
      "\n",
      "Confusion Matrix for Class 2 - MSK1:\n",
      "[[0.8963007 0.1036993]\n",
      " [0.202371  0.797629 ]]\n",
      "\n",
      "Confusion Matrix for Class 3 - MSK2:\n",
      "[[0.84077798 0.15922202]\n",
      " [0.22523806 0.77476194]]\n",
      "\n",
      "Confusion Matrix for Class 4 - Shim_NSCLC:\n",
      "[[0.7058218  0.2941782 ]\n",
      " [0.36582888 0.63417112]]\n",
      "\n",
      "Confusion Matrix for Class 5 - Kato_panCancer:\n",
      "[[0.56669836 0.43330164]\n",
      " [0.37908688 0.62091312]]\n",
      "\n",
      "Confusion Matrix for Class 6 - Vanguri_NSCLC:\n",
      "[[0.5183012  0.4816988 ]\n",
      " [0.26623056 0.73376944]]\n",
      "\n",
      "Confusion Matrix for Class 7 - Ravi_NSCLC:\n",
      "[[0.85865842 0.14134158]\n",
      " [0.34960937 0.65039062]]\n",
      "\n",
      "Confusion Matrix for Class 8 - Pradat_panCancer:\n",
      "[[0.78207203 0.21792797]\n",
      " [0.35526352 0.64473648]]\n",
      "\n",
      "\n",
      "              precision    recall  f1-score   support\n",
      "\n",
      "           0       0.90      0.94      0.92     45954\n",
      "           1       0.87      0.93      0.90     44401\n",
      "           2       0.90      0.80      0.85     40658\n",
      "           3       0.84      0.77      0.80     37911\n",
      "           4       0.69      0.63      0.66     37400\n",
      "           5       0.59      0.62      0.61     37498\n",
      "           6       0.62      0.73      0.67     38523\n",
      "           7       0.83      0.65      0.73     38400\n",
      "           8       0.74      0.64      0.69     35993\n",
      "\n",
      "   micro avg       0.78      0.76      0.77    356738\n",
      "   macro avg       0.78      0.75      0.76    356738\n",
      "weighted avg       0.78      0.76      0.77    356738\n",
      " samples avg       0.78      0.76      0.75    356738\n",
      "\n"
     ]
    }
   ],
   "source": [
    "# Predict probabilities and binary labels\n",
    "y_pred = mlp_bb.predict(X_test)\n",
    "\n",
    "# Evaluate using F1-score\n",
    "print(\"F1-score:\", f1_score(y_test, y_pred, average=\"micro\"))\n",
    "print()\n",
    "\n",
    "# Compute the confusion matrix for each label separately\n",
    "conf_matrices = multilabel_confusion_matrix(y_test, y_pred)\n",
    "\n",
    "# Display confusion matrices per class\n",
    "for i, cm in enumerate(conf_matrices):\n",
    "    cm_sum = cm.astype(np.float64).sum(axis=1, keepdims=True)  # Sum per row\n",
    "    cm_normalized = cm / (cm_sum + 1e-9)  # Avoid division by zero\n",
    "    print(f\"Confusion Matrix for Class {i} - {datasets[i]}:\\n{cm_normalized}\\n\")\n",
    "print()\n",
    "\n",
    "# Generate a detailed classification report\n",
    "print(classification_report(y_test, y_pred, zero_division=0))"
   ]
  },
  {
   "cell_type": "markdown",
   "metadata": {},
   "source": [
    "## White-box attack ensemble"
   ]
  },
  {
   "cell_type": "code",
   "execution_count": 22,
   "metadata": {},
   "outputs": [
    {
     "name": "stdout",
     "output_type": "stream",
     "text": [
      "Training fold 1/5...\n"
     ]
    },
    {
     "name": "stderr",
     "output_type": "stream",
     "text": [
      "/export/anaconda3/envs/loris/lib/python3.11/site-packages/sklearn/neural_network/_multilayer_perceptron.py:691: ConvergenceWarning: Stochastic Optimizer: Maximum iterations (100) reached and the optimization hasn't converged yet.\n",
      "  warnings.warn(\n"
     ]
    },
    {
     "name": "stdout",
     "output_type": "stream",
     "text": [
      "Training fold 2/5...\n"
     ]
    },
    {
     "name": "stderr",
     "output_type": "stream",
     "text": [
      "/export/anaconda3/envs/loris/lib/python3.11/site-packages/sklearn/neural_network/_multilayer_perceptron.py:691: ConvergenceWarning: Stochastic Optimizer: Maximum iterations (100) reached and the optimization hasn't converged yet.\n",
      "  warnings.warn(\n"
     ]
    },
    {
     "name": "stdout",
     "output_type": "stream",
     "text": [
      "Training fold 3/5...\n"
     ]
    },
    {
     "name": "stderr",
     "output_type": "stream",
     "text": [
      "/export/anaconda3/envs/loris/lib/python3.11/site-packages/sklearn/neural_network/_multilayer_perceptron.py:691: ConvergenceWarning: Stochastic Optimizer: Maximum iterations (100) reached and the optimization hasn't converged yet.\n",
      "  warnings.warn(\n"
     ]
    },
    {
     "name": "stdout",
     "output_type": "stream",
     "text": [
      "Training fold 4/5...\n"
     ]
    },
    {
     "name": "stderr",
     "output_type": "stream",
     "text": [
      "/export/anaconda3/envs/loris/lib/python3.11/site-packages/sklearn/neural_network/_multilayer_perceptron.py:691: ConvergenceWarning: Stochastic Optimizer: Maximum iterations (100) reached and the optimization hasn't converged yet.\n",
      "  warnings.warn(\n"
     ]
    },
    {
     "name": "stdout",
     "output_type": "stream",
     "text": [
      "Training fold 5/5...\n"
     ]
    },
    {
     "name": "stderr",
     "output_type": "stream",
     "text": [
      "/export/anaconda3/envs/loris/lib/python3.11/site-packages/sklearn/neural_network/_multilayer_perceptron.py:691: ConvergenceWarning: Stochastic Optimizer: Maximum iterations (100) reached and the optimization hasn't converged yet.\n",
      "  warnings.warn(\n"
     ]
    }
   ],
   "source": [
    "# White-box attack\n",
    "X, y = all_params, all_labels\n",
    "\n",
    "attack_model_dir = os.path.join(cwd, 'attack_models', model_name,\n",
    "                                scaler_type, 'vanilla')\n",
    "os.makedirs(attack_model_dir, exist_ok=True)\n",
    "\n",
    "# First: Train/Test Split (held-out test set)\n",
    "X_train_full, X_test, y_train_full, y_test = train_test_split(\n",
    "    X, y, test_size=0.2, random_state=42)\n",
    "\n",
    "# Save held-out test set (optional)\n",
    "# joblib.dump((X_test, y_test), os.path.join(attack_model_dir,\n",
    "#                                            'heldout_test_set.pkl'))\n",
    "\n",
    "# K-Fold CV on training set\n",
    "n_splits = 5\n",
    "kfold = KFold(n_splits=n_splits, shuffle=True, random_state=42)\n",
    "\n",
    "for fold, (train_index, val_index) in enumerate(kfold.split(X_train_full,\n",
    "                                                            y_train_full)):\n",
    "    print(f\"Training fold {fold+1}/{n_splits}...\")\n",
    "\n",
    "    X_train, X_val = X_train_full[train_index], X_train_full[val_index]\n",
    "    y_train, y_val = y_train_full[train_index], y_train_full[val_index]\n",
    "\n",
    "    # Define and train the model\n",
    "    # mlp_wb = MLPClassifier(hidden_layer_sizes=(256, 128, 64, 32),\n",
    "    #                        activation=\"relu\",\n",
    "    #                        solver=\"adam\",\n",
    "    #                        max_iter=500)\n",
    "    mlp_wb = MLPClassifier(hidden_layer_sizes=(128, 32),\n",
    "                           activation=\"relu\",\n",
    "                           solver=\"adam\",\n",
    "                           max_iter=100)\n",
    "    mlp_wb.fit(X_train, y_train)\n",
    "\n",
    "    # Save model for this fold\n",
    "    # joblib.dump(mlp_wb,\n",
    "    #             os.path.join(attack_model_dir,\n",
    "    #                          f'mlp_attacker_multilabel_wb_fold_{fold+1}.pkl'))"
   ]
  },
  {
   "cell_type": "code",
   "execution_count": 26,
   "metadata": {},
   "outputs": [],
   "source": [
    "# Save held-out test set (optional)\n",
    "attack_model_dir = os.path.join(cwd, 'attack_models', model_name,\n",
    "                                scaler_type, 'vanilla')\n",
    "X_test, y_test = joblib.load(os.path.join(attack_model_dir,\n",
    "                                          'heldout_test_set.pkl'))\n",
    "\n",
    "# Load models\n",
    "n_splits = 5\n",
    "loaded_models = []\n",
    "\n",
    "# Load each model\n",
    "for fold in range(1, n_splits + 1):\n",
    "    model_path = os.path.join(attack_model_dir,\n",
    "                              f'mlp_attacker_multilabel_wb_fold_{fold}.pkl')\n",
    "    model = joblib.load(model_path)\n",
    "    loaded_models.append(model)"
   ]
  },
  {
   "cell_type": "code",
   "execution_count": 27,
   "metadata": {},
   "outputs": [
    {
     "name": "stdout",
     "output_type": "stream",
     "text": [
      "Ensemble accuracy: 0.4640\n"
     ]
    }
   ],
   "source": [
    "# Multilabel: average predictions and apply threshold\n",
    "all_preds = np.array([model.predict_proba(X_test) for model in loaded_models])\n",
    "avg_preds = np.mean(all_preds, axis=0)\n",
    "final_preds = (avg_preds >= 0.5).astype(int)\n",
    "\n",
    "# Accuracy (or any other metric)\n",
    "acc = accuracy_score(y_test, final_preds)\n",
    "print(f\"Ensemble accuracy: {acc:.4f}\")"
   ]
  },
  {
   "cell_type": "code",
   "execution_count": 28,
   "metadata": {},
   "outputs": [
    {
     "name": "stdout",
     "output_type": "stream",
     "text": [
      "F1-score: 0.9229317360482738\n",
      "\n",
      "Confusion Matrix for Class 0 - Chowell_train:\n",
      "[[9.98201629e-01 1.79837089e-03]\n",
      " [6.96348522e-04 9.99303651e-01]]\n",
      "\n",
      "Confusion Matrix for Class 1 - Chowell_test:\n",
      "[[0.99170901 0.00829099]\n",
      " [0.00621608 0.99378392]]\n",
      "\n",
      "Confusion Matrix for Class 2 - MSK1:\n",
      "[[0.95964938 0.04035062]\n",
      " [0.01308476 0.98691524]]\n",
      "\n",
      "Confusion Matrix for Class 3 - MSK2:\n",
      "[[0.99129169 0.00870831]\n",
      " [0.01783124 0.98216876]]\n",
      "\n",
      "Confusion Matrix for Class 4 - Shim_NSCLC:\n",
      "[[0.85124482 0.14875518]\n",
      " [0.14203209 0.85796791]]\n",
      "\n",
      "Confusion Matrix for Class 5 - Kato_panCancer:\n",
      "[[0.75523564 0.24476436]\n",
      " [0.2257187  0.7742813 ]]\n",
      "\n",
      "Confusion Matrix for Class 6 - Vanguri_NSCLC:\n",
      "[[0.70162056 0.29837944]\n",
      " [0.1247826  0.8752174 ]]\n",
      "\n",
      "Confusion Matrix for Class 7 - Ravi_NSCLC:\n",
      "[[0.92590427 0.07409573]\n",
      " [0.03583333 0.96416667]]\n",
      "\n",
      "Confusion Matrix for Class 8 - Pradat_panCancer:\n",
      "[[0.96111691 0.03888309]\n",
      " [0.07643153 0.92356847]]\n",
      "\n",
      "\n",
      "              precision    recall  f1-score   support\n",
      "\n",
      "           0       1.00      1.00      1.00     45954\n",
      "           1       0.99      0.99      0.99     44401\n",
      "           2       0.97      0.99      0.98     40658\n",
      "           3       0.99      0.98      0.99     37911\n",
      "           4       0.85      0.86      0.86     37400\n",
      "           5       0.76      0.77      0.77     37498\n",
      "           6       0.76      0.88      0.81     38523\n",
      "           7       0.93      0.96      0.95     38400\n",
      "           8       0.96      0.92      0.94     35993\n",
      "\n",
      "   micro avg       0.91      0.93      0.92    356738\n",
      "   macro avg       0.91      0.93      0.92    356738\n",
      "weighted avg       0.92      0.93      0.92    356738\n",
      " samples avg       0.92      0.94      0.92    356738\n",
      "\n"
     ]
    }
   ],
   "source": [
    "# Evaluate using F1-score\n",
    "print(\"F1-score:\", f1_score(y_test, final_preds, average=\"micro\"))\n",
    "print()\n",
    "\n",
    "# Compute the confusion matrix for each label separately\n",
    "conf_matrices = multilabel_confusion_matrix(y_test, final_preds)\n",
    "\n",
    "# Display confusion matrices per class\n",
    "for i, cm in enumerate(conf_matrices):\n",
    "    cm_sum = cm.astype(np.float64).sum(axis=1, keepdims=True)  # Sum per row\n",
    "    cm_normalized = cm / (cm_sum + 1e-9)  # Avoid division by zero\n",
    "    print(f\"Confusion Matrix for Class {i} - {datasets[i]}:\\n{cm_normalized}\\n\")\n",
    "print()\n",
    "\n",
    "# Generate a detailed classification report\n",
    "print(classification_report(y_test, final_preds, zero_division=0))"
   ]
  },
  {
   "cell_type": "markdown",
   "metadata": {},
   "source": [
    "### Evaluate LORIS"
   ]
  },
  {
   "cell_type": "code",
   "execution_count": 29,
   "metadata": {},
   "outputs": [],
   "source": [
    "def classify_by_dataset(models, params):\n",
    "    # Multilabel: average predictions and apply threshold\n",
    "    all_preds = np.array([model.predict_proba(params) for model in models])\n",
    "    avg_preds = np.mean(all_preds, axis=0)\n",
    "    \n",
    "    \n",
    "    for i in range(len(datasets)):\n",
    "        print(f'{datasets[i]:>16}: {avg_preds[0][i]:.4f}')"
   ]
  },
  {
   "cell_type": "code",
   "execution_count": 30,
   "metadata": {},
   "outputs": [
    {
     "data": {
      "text/plain": [
       "tensor([[ 3.7100e-02, -8.7750e-01,  5.3820e-01, -3.3000e-02,  4.9000e-03,\n",
       "         -3.3230e-01, -3.3230e-01, -1.0200e-01, -7.9000e-03,  5.5000e-01,\n",
       "          2.3060e-01,  6.7800e-02, -1.1890e-01, -8.6000e-03,  1.2550e-01,\n",
       "          8.0000e-04, -5.2000e-02, -1.1169e+00,  5.4510e-01,  5.4200e-02,\n",
       "         -3.3000e-03, -2.0886e+00]])"
      ]
     },
     "execution_count": 30,
     "metadata": {},
     "output_type": "execute_result"
    }
   ],
   "source": [
    "# ['TMB', 'Systemic_therapy_history', 'Albumin', 'NLR', 'Age',\n",
    "#  'CancerType1', 'CancerType2', 'CancerType3', 'CancerType4',\n",
    "#  'CancerType5', 'CancerType6', 'CancerType7', 'CancerType8',\n",
    "#  'CancerType9', 'CancerType10', 'CancerType11', 'CancerType12',\n",
    "#  'CancerType13', 'CancerType14', 'CancerType15', 'CancerType16']\n",
    "\n",
    "# S = 0.0371 * min(TMB, 50) - 0.8775 * PSTH + 0.5382 * Albumin - 0.033 * min(NLR, 25) + 0.0049 * min(Age, 85) + CTCT - 2.0886\n",
    "\n",
    "# CTCT = - 0.3323 * Bladder - 0.3323 * Breast - 0.102 * Colorectal - 0.0079 * Endometrial + 0.55 * Esophageal + 0.2306 * Gastric\n",
    "#     + 0.0678 * Head&Neck - 0.1189 * Hepatobiliary - 0.0086 * Melanoma + 0.1255 * Mesothelioma + 0.0008 * NSCLC\n",
    "#     - 0.052 * Ovarian - 1.1169 * Pancreatic + 0.5451 * Renal + 0.0542 * Sarcoma - 0.0033 * SCLC\n",
    "\n",
    "coeffs = [0.0371, -0.8775, 0.5382, -0.033, 0.0049, -0.3323, -0.3323, -0.102,\n",
    "          -0.0079, 0.55, 0.2306, 0.0678, -0.1189, -0.0086, 0.1255, 0.0008,\n",
    "          -0.052, -1.1169, 0.5451, 0.0542, -0.0033, -2.0886]\n",
    "X_loris = torch.tensor(coeffs).unsqueeze(0)\n",
    "X_loris"
   ]
  },
  {
   "cell_type": "code",
   "execution_count": 31,
   "metadata": {},
   "outputs": [
    {
     "name": "stdout",
     "output_type": "stream",
     "text": [
      "   Chowell_train: 1.0000\n",
      "    Chowell_test: 0.0049\n",
      "            MSK1: 0.0359\n",
      "            MSK2: 0.1415\n",
      "      Shim_NSCLC: 0.0706\n",
      "  Kato_panCancer: 0.3272\n",
      "   Vanguri_NSCLC: 0.4680\n",
      "      Ravi_NSCLC: 0.0066\n",
      "Pradat_panCancer: 0.0129\n"
     ]
    }
   ],
   "source": [
    "classify_by_dataset(loaded_models, X_loris)"
   ]
  },
  {
   "cell_type": "markdown",
   "metadata": {},
   "source": [
    "### Check other models"
   ]
  },
  {
   "cell_type": "code",
   "execution_count": 32,
   "metadata": {},
   "outputs": [
    {
     "name": "stdout",
     "output_type": "stream",
     "text": [
      "torch.Size([185, 22])\n"
     ]
    },
    {
     "data": {
      "text/plain": [
       "tensor([[ 4.6279e-02, -7.7625e-01,  6.2192e-01, -5.5966e-02,  9.4375e-03,\n",
       "         -5.3274e-01, -5.4739e-01, -4.1209e-01,  1.0239e-01,  6.6395e-01,\n",
       "          3.2490e-01,  4.9441e-01, -1.3796e+00, -5.4814e-02,  7.6502e-01,\n",
       "          4.4982e-03, -1.8293e-01, -5.9774e+00,  6.0475e-01,  3.7789e-01,\n",
       "          8.9294e-02, -2.6701e+00]], dtype=torch.float64)"
      ]
     },
     "execution_count": 32,
     "metadata": {},
     "output_type": "execute_result"
    }
   ],
   "source": [
    "aux_datasets = [0, 4, 5]\n",
    "cond1 = y_test.sum(dim=1) == len(aux_datasets)\n",
    "cond2 = y_test[:, aux_datasets].all(dim=1)\n",
    "aux_params = X_test[cond1 * cond2]\n",
    "\n",
    "print(aux_params.shape)\n",
    "idx = torch.randperm(aux_params.shape[0])[0]\n",
    "aux_coeffs = aux_params[idx].unsqueeze(0)\n",
    "aux_coeffs"
   ]
  },
  {
   "cell_type": "code",
   "execution_count": 33,
   "metadata": {},
   "outputs": [
    {
     "name": "stdout",
     "output_type": "stream",
     "text": [
      "   Chowell_train: 1.0000\n",
      "    Chowell_test: 0.0001\n",
      "            MSK1: 0.2851\n",
      "            MSK2: 0.0000\n",
      "      Shim_NSCLC: 0.3399\n",
      "  Kato_panCancer: 0.9610\n",
      "   Vanguri_NSCLC: 0.6246\n",
      "      Ravi_NSCLC: 0.0002\n",
      "Pradat_panCancer: 0.3050\n"
     ]
    }
   ],
   "source": [
    "classify_by_dataset(loaded_models, aux_coeffs)"
   ]
  }
 ],
 "metadata": {
  "kernelspec": {
   "display_name": "loris",
   "language": "python",
   "name": "python3"
  },
  "language_info": {
   "codemirror_mode": {
    "name": "ipython",
    "version": 3
   },
   "file_extension": ".py",
   "mimetype": "text/x-python",
   "name": "python",
   "nbconvert_exporter": "python",
   "pygments_lexer": "ipython3",
   "version": "3.11.11"
  }
 },
 "nbformat": 4,
 "nbformat_minor": 2
}
